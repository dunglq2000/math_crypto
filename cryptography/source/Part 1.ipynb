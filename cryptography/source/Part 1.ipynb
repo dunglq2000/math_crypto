{
 "cells": [
  {
   "cell_type": "markdown",
   "id": "72b186ec",
   "metadata": {},
   "source": [
    "# Luyện khí cơ bản - khái niệm sơ cấp"
   ]
  },
  {
   "cell_type": "markdown",
   "id": "9911029b",
   "metadata": {},
   "source": [
    "# Tập hợp và các cấu trúc rời rạc\n",
    "## 1. Tập hợp\n",
    "Một **tập hợp** bao gồm các phần tử khác nhau. Ví dụ với tập hợp các số nguyên dương nhỏ hơn 5 ta viết như sau: $\\{1, 2, 3, 4\\}$. Ví dụ khác, tập hợp các chữ cái latin là $\\{a, b, c, \\cdots, x, y, z\\}$\n",
    "\n",
    "Các tập hợp số thông dụng:\n",
    "- Tập hợp số tự nhiên, ký hiệu là $\\mathbb{N} = \\{0, 1, 2, \\cdots\\}$. Tập hợp số tự nhiên không có số 0 ký hiệu là $\\mathbb{N}^*$\n",
    "- Tập hợp số nguyên, ký hiệu là $\\mathbb{Z} = \\{ \\cdots, -2, -1, 0, 1, 2, \\cdots\\}$\n",
    "- Tập hợp số hữu tỉ, ký hiệu là $\\mathbb{Q} = \\{\\frac{a}{b} : a \\in \\mathbb{Z}, b \\in \\mathbb{N}^*, \\gcd(a, b) = 1\\}$. Trong đó $\\gcd(a, b)=1$ nghĩa là $a$ và $b$ không có ước chung nào ngoài 1. Nói cách khác $\\frac{a}{b}$ là phân số tối giản.\n",
    "- Tập hợp số thực, ký hiệu là $\\mathbb{R}$\n",
    "\n",
    "Để biểu diễn tập hợp ta có 2 cách\n",
    "- Liệt kê tất cả phần tử của tập hợp: $A = \\{1, 2, 3, 4\\}$. $A$ là tên tập hợp.\n",
    "- Dùng tính chất đặc trưng: $A = \\{x \\in \\mathbb{N}^*: x < 5\\}$\n",
    "\n",
    "**Tập hợp rỗng** (**empty set**) là tập hợp không có phần tử nào. Ký hiệu $\\emptyset$\n",
    "\n",
    "**Tập hợp con** (**subset**): nếu tất cả phần tử của tập hợp $B$ thuộc tập hợp $A$ thì $B$ được gọi là **tập hợp con** của tập hợp $A$. Ký hiệu $B \\subset A$. Ví dụ $A = \\{1, 2, 3, 4\\}$ và $B = \\{1, 3, 4\\}$. Như vậy, tập hợp rỗng là tập hợp con của *mọi tập hợp*\n",
    "\n",
    "\n",
    "**Tính chất 1**: tập hợp có $n$ phần tử thì có $2^n$ tập con\n",
    "\n",
    "**Chứng minh**: mình có 2 cách\n",
    "- Cách 1: dùng quy nạp. Với $n=1$, tập hợp có 1 phần tử sẽ có 2 tập con là tập con có phần tử đó và tập rỗng. Giả sử tính chất đúng tới $n=k \\geq 1$. Ta đặt $A$ là tập hợp có $k$ phần tử, giả thiết quy nạp là $A$ có $2^k$ tập con. Xét $n=k+1$, tập $B$ mới có $n$ phần tử từ tập $A$ và 1 phần tử $x$. Mỗi tập con của $B$ sẽ có từ các tập con của $A$ với việc thêm hoặc không thêm phần tử $x$. Như vậy mỗi tập con của $A$ có 2 lựa chọn, suy ra $2^k \\cdot 2 = 2^{k+1}$ tập con. Điều phải chứng minh\n",
    "- Cách 2: dùng song ánh. Hiện tại mình chưa đề cập tới ánh xạ nên các bạn cứ nghĩ song ánh là một phương pháp đưa bài toán ban đầu thành bài toán có mô hình dễ tính hơn. Ở đây, xét một tập con bất kì của tập $A = \\{x_1, x_2, \\cdots, x_n\\}$ có $n$ phần tử. Mình xét dãy $n$ số như sau: nếu phần tử $x_i$ nằm trong tập con thì đặt là 1, không thuộc thì là 0. Như vậy mình sẽ có dãy bit độ dài $n$, và số dãy bit chính là số tập con. Mình có $2^n$ dãy bit. Điều phải chứng minh"
   ]
  },
  {
   "cell_type": "code",
   "execution_count": null,
   "id": "3b8d3dee",
   "metadata": {},
   "outputs": [],
   "source": []
  }
 ],
 "metadata": {
  "kernelspec": {
   "display_name": "Python 3 (ipykernel)",
   "language": "python",
   "name": "python3"
  },
  "language_info": {
   "codemirror_mode": {
    "name": "ipython",
    "version": 3
   },
   "file_extension": ".py",
   "mimetype": "text/x-python",
   "name": "python",
   "nbconvert_exporter": "python",
   "pygments_lexer": "ipython3",
   "version": "3.9.6"
  }
 },
 "nbformat": 4,
 "nbformat_minor": 5
}
